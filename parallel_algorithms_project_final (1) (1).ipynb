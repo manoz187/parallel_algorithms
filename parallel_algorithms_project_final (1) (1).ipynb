{
 "cells": [
  {
   "cell_type": "code",
   "execution_count": 1,
   "id": "d39eab4c",
   "metadata": {},
   "outputs": [],
   "source": [
    "import pandas as pd \n",
    "import numpy as np \n",
    "import time \n",
    "import heapq as hq "
   ]
  },
  {
   "cell_type": "markdown",
   "id": "852e9da8",
   "metadata": {},
   "source": [
    "Data Importing"
   ]
  },
  {
   "cell_type": "code",
   "execution_count": 2,
   "id": "7eacabf2",
   "metadata": {},
   "outputs": [],
   "source": [
    "KNN_Train = pd.read_csv('TrainData.csv') \n",
    "KNN_Test = pd.read_csv('TestData.csv') "
   ]
  },
  {
   "cell_type": "code",
   "execution_count": 3,
   "id": "d941be67",
   "metadata": {},
   "outputs": [
    {
     "data": {
      "text/html": [
       "<div>\n",
       "<style scoped>\n",
       "    .dataframe tbody tr th:only-of-type {\n",
       "        vertical-align: middle;\n",
       "    }\n",
       "\n",
       "    .dataframe tbody tr th {\n",
       "        vertical-align: top;\n",
       "    }\n",
       "\n",
       "    .dataframe thead th {\n",
       "        text-align: right;\n",
       "    }\n",
       "</style>\n",
       "<table border=\"1\" class=\"dataframe\">\n",
       "  <thead>\n",
       "    <tr style=\"text-align: right;\">\n",
       "      <th></th>\n",
       "      <th>x1</th>\n",
       "      <th>x2</th>\n",
       "      <th>x3</th>\n",
       "      <th>x4</th>\n",
       "      <th>x5</th>\n",
       "      <th>x6</th>\n",
       "      <th>x7</th>\n",
       "      <th>x8</th>\n",
       "      <th>x9</th>\n",
       "      <th>x10</th>\n",
       "      <th>x11</th>\n",
       "      <th>x12</th>\n",
       "      <th>x13</th>\n",
       "      <th>x14</th>\n",
       "      <th>y</th>\n",
       "    </tr>\n",
       "  </thead>\n",
       "  <tbody>\n",
       "    <tr>\n",
       "      <th>0</th>\n",
       "      <td>0.042795</td>\n",
       "      <td>5</td>\n",
       "      <td>-1.06270</td>\n",
       "      <td>0</td>\n",
       "      <td>1.12890</td>\n",
       "      <td>2</td>\n",
       "      <td>8</td>\n",
       "      <td>3</td>\n",
       "      <td>0</td>\n",
       "      <td>1</td>\n",
       "      <td>0.14609</td>\n",
       "      <td>-0.21858</td>\n",
       "      <td>-0.077733</td>\n",
       "      <td>0</td>\n",
       "      <td>-1</td>\n",
       "    </tr>\n",
       "    <tr>\n",
       "      <th>1</th>\n",
       "      <td>0.880270</td>\n",
       "      <td>1</td>\n",
       "      <td>-1.00790</td>\n",
       "      <td>0</td>\n",
       "      <td>1.12890</td>\n",
       "      <td>0</td>\n",
       "      <td>4</td>\n",
       "      <td>2</td>\n",
       "      <td>0</td>\n",
       "      <td>1</td>\n",
       "      <td>-0.14744</td>\n",
       "      <td>-0.21858</td>\n",
       "      <td>-2.331500</td>\n",
       "      <td>0</td>\n",
       "      <td>-1</td>\n",
       "    </tr>\n",
       "    <tr>\n",
       "      <th>2</th>\n",
       "      <td>-0.033339</td>\n",
       "      <td>0</td>\n",
       "      <td>0.24469</td>\n",
       "      <td>3</td>\n",
       "      <td>-0.43973</td>\n",
       "      <td>1</td>\n",
       "      <td>6</td>\n",
       "      <td>3</td>\n",
       "      <td>0</td>\n",
       "      <td>1</td>\n",
       "      <td>-0.14744</td>\n",
       "      <td>-0.21858</td>\n",
       "      <td>-0.077733</td>\n",
       "      <td>0</td>\n",
       "      <td>-1</td>\n",
       "    </tr>\n",
       "    <tr>\n",
       "      <th>3</th>\n",
       "      <td>1.108700</td>\n",
       "      <td>0</td>\n",
       "      <td>0.42523</td>\n",
       "      <td>2</td>\n",
       "      <td>-1.22400</td>\n",
       "      <td>0</td>\n",
       "      <td>6</td>\n",
       "      <td>2</td>\n",
       "      <td>4</td>\n",
       "      <td>1</td>\n",
       "      <td>-0.14744</td>\n",
       "      <td>-0.21858</td>\n",
       "      <td>-0.077733</td>\n",
       "      <td>0</td>\n",
       "      <td>-1</td>\n",
       "    </tr>\n",
       "    <tr>\n",
       "      <th>4</th>\n",
       "      <td>-0.794680</td>\n",
       "      <td>0</td>\n",
       "      <td>1.40660</td>\n",
       "      <td>0</td>\n",
       "      <td>1.12890</td>\n",
       "      <td>0</td>\n",
       "      <td>5</td>\n",
       "      <td>0</td>\n",
       "      <td>4</td>\n",
       "      <td>0</td>\n",
       "      <td>-0.14744</td>\n",
       "      <td>-0.21858</td>\n",
       "      <td>-0.077733</td>\n",
       "      <td>12</td>\n",
       "      <td>-1</td>\n",
       "    </tr>\n",
       "  </tbody>\n",
       "</table>\n",
       "</div>"
      ],
      "text/plain": [
       "         x1  x2       x3  x4       x5  x6  x7  x8  x9  x10      x11      x12  \\\n",
       "0  0.042795   5 -1.06270   0  1.12890   2   8   3   0    1  0.14609 -0.21858   \n",
       "1  0.880270   1 -1.00790   0  1.12890   0   4   2   0    1 -0.14744 -0.21858   \n",
       "2 -0.033339   0  0.24469   3 -0.43973   1   6   3   0    1 -0.14744 -0.21858   \n",
       "3  1.108700   0  0.42523   2 -1.22400   0   6   2   4    1 -0.14744 -0.21858   \n",
       "4 -0.794680   0  1.40660   0  1.12890   0   5   0   4    0 -0.14744 -0.21858   \n",
       "\n",
       "        x13  x14  y  \n",
       "0 -0.077733    0 -1  \n",
       "1 -2.331500    0 -1  \n",
       "2 -0.077733    0 -1  \n",
       "3 -0.077733    0 -1  \n",
       "4 -0.077733   12 -1  "
      ]
     },
     "execution_count": 3,
     "metadata": {},
     "output_type": "execute_result"
    }
   ],
   "source": [
    "KNN_Train.head()"
   ]
  },
  {
   "cell_type": "code",
   "execution_count": 4,
   "id": "774dec57",
   "metadata": {},
   "outputs": [
    {
     "data": {
      "text/html": [
       "<div>\n",
       "<style scoped>\n",
       "    .dataframe tbody tr th:only-of-type {\n",
       "        vertical-align: middle;\n",
       "    }\n",
       "\n",
       "    .dataframe tbody tr th {\n",
       "        vertical-align: top;\n",
       "    }\n",
       "\n",
       "    .dataframe thead th {\n",
       "        text-align: right;\n",
       "    }\n",
       "</style>\n",
       "<table border=\"1\" class=\"dataframe\">\n",
       "  <thead>\n",
       "    <tr style=\"text-align: right;\">\n",
       "      <th></th>\n",
       "      <th>x1</th>\n",
       "      <th>x2</th>\n",
       "      <th>x3</th>\n",
       "      <th>x4</th>\n",
       "      <th>x5</th>\n",
       "      <th>x6</th>\n",
       "      <th>x7</th>\n",
       "      <th>x8</th>\n",
       "      <th>x9</th>\n",
       "      <th>x10</th>\n",
       "      <th>x11</th>\n",
       "      <th>x12</th>\n",
       "      <th>x13</th>\n",
       "      <th>x14</th>\n",
       "      <th>y</th>\n",
       "    </tr>\n",
       "  </thead>\n",
       "  <tbody>\n",
       "    <tr>\n",
       "      <th>0</th>\n",
       "      <td>-1.029000</td>\n",
       "      <td>0</td>\n",
       "      <td>0.352090</td>\n",
       "      <td>2</td>\n",
       "      <td>-1.216500</td>\n",
       "      <td>2</td>\n",
       "      <td>7</td>\n",
       "      <td>1</td>\n",
       "      <td>4</td>\n",
       "      <td>1</td>\n",
       "      <td>-0.14543</td>\n",
       "      <td>-0.21916</td>\n",
       "      <td>-0.078886</td>\n",
       "      <td>0</td>\n",
       "      <td>-1</td>\n",
       "    </tr>\n",
       "    <tr>\n",
       "      <th>1</th>\n",
       "      <td>-0.057421</td>\n",
       "      <td>0</td>\n",
       "      <td>-0.944960</td>\n",
       "      <td>3</td>\n",
       "      <td>-0.434880</td>\n",
       "      <td>0</td>\n",
       "      <td>9</td>\n",
       "      <td>2</td>\n",
       "      <td>0</td>\n",
       "      <td>1</td>\n",
       "      <td>-0.14543</td>\n",
       "      <td>-0.21916</td>\n",
       "      <td>0.750110</td>\n",
       "      <td>0</td>\n",
       "      <td>-1</td>\n",
       "    </tr>\n",
       "    <tr>\n",
       "      <th>2</th>\n",
       "      <td>-0.804770</td>\n",
       "      <td>4</td>\n",
       "      <td>1.395000</td>\n",
       "      <td>5</td>\n",
       "      <td>0.737570</td>\n",
       "      <td>0</td>\n",
       "      <td>12</td>\n",
       "      <td>2</td>\n",
       "      <td>0</td>\n",
       "      <td>1</td>\n",
       "      <td>-0.14543</td>\n",
       "      <td>-0.21916</td>\n",
       "      <td>-0.078886</td>\n",
       "      <td>0</td>\n",
       "      <td>1</td>\n",
       "    </tr>\n",
       "    <tr>\n",
       "      <th>3</th>\n",
       "      <td>0.390990</td>\n",
       "      <td>0</td>\n",
       "      <td>-0.277360</td>\n",
       "      <td>1</td>\n",
       "      <td>-0.044064</td>\n",
       "      <td>0</td>\n",
       "      <td>7</td>\n",
       "      <td>2</td>\n",
       "      <td>4</td>\n",
       "      <td>1</td>\n",
       "      <td>0.85260</td>\n",
       "      <td>-0.21916</td>\n",
       "      <td>-0.078886</td>\n",
       "      <td>0</td>\n",
       "      <td>1</td>\n",
       "    </tr>\n",
       "    <tr>\n",
       "      <th>4</th>\n",
       "      <td>-0.356360</td>\n",
       "      <td>0</td>\n",
       "      <td>0.085941</td>\n",
       "      <td>12</td>\n",
       "      <td>-1.607300</td>\n",
       "      <td>2</td>\n",
       "      <td>2</td>\n",
       "      <td>3</td>\n",
       "      <td>0</td>\n",
       "      <td>1</td>\n",
       "      <td>-0.14543</td>\n",
       "      <td>-0.21916</td>\n",
       "      <td>-0.907880</td>\n",
       "      <td>0</td>\n",
       "      <td>-1</td>\n",
       "    </tr>\n",
       "  </tbody>\n",
       "</table>\n",
       "</div>"
      ],
      "text/plain": [
       "         x1  x2        x3  x4        x5  x6  x7  x8  x9  x10      x11  \\\n",
       "0 -1.029000   0  0.352090   2 -1.216500   2   7   1   4    1 -0.14543   \n",
       "1 -0.057421   0 -0.944960   3 -0.434880   0   9   2   0    1 -0.14543   \n",
       "2 -0.804770   4  1.395000   5  0.737570   0  12   2   0    1 -0.14543   \n",
       "3  0.390990   0 -0.277360   1 -0.044064   0   7   2   4    1  0.85260   \n",
       "4 -0.356360   0  0.085941  12 -1.607300   2   2   3   0    1 -0.14543   \n",
       "\n",
       "       x12       x13  x14  y  \n",
       "0 -0.21916 -0.078886    0 -1  \n",
       "1 -0.21916  0.750110    0 -1  \n",
       "2 -0.21916 -0.078886    0  1  \n",
       "3 -0.21916 -0.078886    0  1  \n",
       "4 -0.21916 -0.907880    0 -1  "
      ]
     },
     "execution_count": 4,
     "metadata": {},
     "output_type": "execute_result"
    }
   ],
   "source": [
    "KNN_Test.head()"
   ]
  },
  {
   "cell_type": "code",
   "execution_count": 5,
   "id": "3b5491d2",
   "metadata": {},
   "outputs": [
    {
     "data": {
      "text/plain": [
       "(16384, 15)"
      ]
     },
     "execution_count": 5,
     "metadata": {},
     "output_type": "execute_result"
    }
   ],
   "source": [
    "KNN_Train.shape"
   ]
  },
  {
   "cell_type": "code",
   "execution_count": 6,
   "id": "9f8c66bf",
   "metadata": {},
   "outputs": [
    {
     "data": {
      "text/plain": [
       "(5000, 15)"
      ]
     },
     "execution_count": 6,
     "metadata": {},
     "output_type": "execute_result"
    }
   ],
   "source": [
    "KNN_Test.shape"
   ]
  },
  {
   "cell_type": "code",
   "execution_count": 7,
   "id": "d5bd25ea",
   "metadata": {},
   "outputs": [],
   "source": [
    "X = KNN_Train.drop('y', axis=1)\n",
    "y = KNN_Train.y\n",
    "KNN_Test_X = KNN_Test.drop('y',axis=1)\n",
    "KNN_Test_y = KNN_Test.y"
   ]
  },
  {
   "cell_type": "markdown",
   "id": "01e26dec",
   "metadata": {},
   "source": [
    "Euclidean distance between x1 and x2"
   ]
  },
  {
   "cell_type": "code",
   "execution_count": 8,
   "id": "d3ac1a05",
   "metadata": {},
   "outputs": [
    {
     "data": {
      "text/plain": [
       "14.658955171720972"
      ]
     },
     "execution_count": 8,
     "metadata": {},
     "output_type": "execute_result"
    }
   ],
   "source": [
    "\n",
    "def distance(x1, x2):\n",
    "    distance = np.sqrt(np.sum([(a-b)*(a-b) for a, b in zip(x1, x2)]))  \n",
    "    \n",
    "    return distance\n",
    "\n",
    "\n",
    "\n",
    "distance(x1=X.iloc[0], x2=X.iloc[4])"
   ]
  },
  {
   "cell_type": "code",
   "execution_count": 9,
   "id": "85004e9d",
   "metadata": {},
   "outputs": [
    {
     "data": {
      "text/html": [
       "<div>\n",
       "<style scoped>\n",
       "    .dataframe tbody tr th:only-of-type {\n",
       "        vertical-align: middle;\n",
       "    }\n",
       "\n",
       "    .dataframe tbody tr th {\n",
       "        vertical-align: top;\n",
       "    }\n",
       "\n",
       "    .dataframe thead th {\n",
       "        text-align: right;\n",
       "    }\n",
       "</style>\n",
       "<table border=\"1\" class=\"dataframe\">\n",
       "  <thead>\n",
       "    <tr style=\"text-align: right;\">\n",
       "      <th></th>\n",
       "      <th>E.D. Between first row in Test and all rows in Train</th>\n",
       "    </tr>\n",
       "  </thead>\n",
       "  <tbody>\n",
       "    <tr>\n",
       "      <th>0</th>\n",
       "      <td>7.663959</td>\n",
       "    </tr>\n",
       "    <tr>\n",
       "      <th>1</th>\n",
       "      <td>7.146332</td>\n",
       "    </tr>\n",
       "    <tr>\n",
       "      <th>2</th>\n",
       "      <td>4.960469</td>\n",
       "    </tr>\n",
       "    <tr>\n",
       "      <th>3</th>\n",
       "      <td>3.251949</td>\n",
       "    </tr>\n",
       "    <tr>\n",
       "      <th>4</th>\n",
       "      <td>12.832295</td>\n",
       "    </tr>\n",
       "  </tbody>\n",
       "</table>\n",
       "</div>"
      ],
      "text/plain": [
       "   E.D. Between first row in Test and all rows in Train\n",
       "0                                           7.663959   \n",
       "1                                           7.146332   \n",
       "2                                           4.960469   \n",
       "3                                           3.251949   \n",
       "4                                          12.832295   "
      ]
     },
     "execution_count": 9,
     "metadata": {},
     "output_type": "execute_result"
    }
   ],
   "source": [
    "\n",
    "\n",
    "test_pt = KNN_Test_X.iloc[0]\n",
    "\n",
    "\n",
    "distances = []\n",
    "\n",
    "for i in X.index:\n",
    "    \n",
    "    distances.append(distance(test_pt, X.iloc[i]))\n",
    "    \n",
    "df_dists = pd.DataFrame(data=distances, index=X.index, columns=['E.D. Between first row in Test and all rows in Train'])\n",
    "df_dists.head()"
   ]
  },
  {
   "cell_type": "code",
   "execution_count": 10,
   "id": "1753f630",
   "metadata": {},
   "outputs": [
    {
     "data": {
      "text/html": [
       "<div>\n",
       "<style scoped>\n",
       "    .dataframe tbody tr th:only-of-type {\n",
       "        vertical-align: middle;\n",
       "    }\n",
       "\n",
       "    .dataframe tbody tr th {\n",
       "        vertical-align: top;\n",
       "    }\n",
       "\n",
       "    .dataframe thead th {\n",
       "        text-align: right;\n",
       "    }\n",
       "</style>\n",
       "<table border=\"1\" class=\"dataframe\">\n",
       "  <thead>\n",
       "    <tr style=\"text-align: right;\">\n",
       "      <th></th>\n",
       "      <th>E.D. Between first row in Test and all rows in Train</th>\n",
       "    </tr>\n",
       "  </thead>\n",
       "  <tbody>\n",
       "    <tr>\n",
       "      <th>8874</th>\n",
       "      <td>1.433690</td>\n",
       "    </tr>\n",
       "    <tr>\n",
       "      <th>4549</th>\n",
       "      <td>1.523204</td>\n",
       "    </tr>\n",
       "    <tr>\n",
       "      <th>3060</th>\n",
       "      <td>1.623624</td>\n",
       "    </tr>\n",
       "    <tr>\n",
       "      <th>1669</th>\n",
       "      <td>1.672579</td>\n",
       "    </tr>\n",
       "    <tr>\n",
       "      <th>1720</th>\n",
       "      <td>1.678539</td>\n",
       "    </tr>\n",
       "  </tbody>\n",
       "</table>\n",
       "</div>"
      ],
      "text/plain": [
       "      E.D. Between first row in Test and all rows in Train\n",
       "8874                                           1.433690   \n",
       "4549                                           1.523204   \n",
       "3060                                           1.623624   \n",
       "1669                                           1.672579   \n",
       "1720                                           1.678539   "
      ]
     },
     "execution_count": 10,
     "metadata": {},
     "output_type": "execute_result"
    }
   ],
   "source": [
    "\n",
    "\n",
    "df_nn = df_dists.sort_values(by=['E.D. Between first row in Test and all rows in Train'], axis=0)[:5]\n",
    "df_nn"
   ]
  },
  {
   "cell_type": "code",
   "execution_count": 11,
   "id": "edc18d81",
   "metadata": {},
   "outputs": [
    {
     "data": {
      "text/plain": [
       "-1"
      ]
     },
     "execution_count": 11,
     "metadata": {},
     "output_type": "execute_result"
    }
   ],
   "source": [
    "from collections import Counter\n",
    "counter = Counter(y[df_nn.index])\n",
    "counter.most_common()[0][0]"
   ]
  },
  {
   "cell_type": "code",
   "execution_count": 12,
   "id": "9738bb41",
   "metadata": {},
   "outputs": [],
   "source": [
    "\n",
    "from sklearn.model_selection import train_test_split\n",
    "from sklearn.preprocessing import StandardScaler\n",
    "X_train, X_test, y_train, y_test = train_test_split(X, y, test_size=0.20,random_state=123)\n",
    "scaler = StandardScaler()\n",
    "X_train = scaler.fit_transform(X_train)\n",
    "X_test = scaler.transform(X_test)"
   ]
  },
  {
   "cell_type": "code",
   "execution_count": 13,
   "id": "c181ad93",
   "metadata": {},
   "outputs": [],
   "source": [
    "def knn_predict(X_train, X_test, y_train, y_test, k, p):\n",
    "    \n",
    "    # Counter will assit with label voting\n",
    "    from collections import Counter\n",
    "    \n",
    "    # Make 1 prediction per test datapoint\n",
    "    y_hat_test = []\n",
    "\n",
    "    for test_point in X_test:\n",
    "        distances = []\n",
    "        for train_point in X_train:\n",
    "            distance_t = distance(test_point, train_point)\n",
    "            distances.append(distance_t)\n",
    "        \n",
    "        # Store Distances in a Dataframe\n",
    "        df_dists = pd.DataFrame(data=distances, columns=['dist'], \n",
    "                                index=y_train.index)\n",
    "        \n",
    "        # Sort distances with considerations to k neighbours\n",
    "        df_nn = df_dists.sort_values(by=['dist'], axis=0)[:k]\n",
    "\n",
    "        # Create counter to track labels\n",
    "        counter = Counter(y_train[df_nn.index])\n",
    "\n",
    "        # Find most common label\n",
    "        prediction = counter.most_common()[0][0]\n",
    "        \n",
    "        # Append prediction to output list\n",
    "        y_hat_test.append(prediction)\n",
    "        \n",
    "    return y_hat_test "
   ]
  },
  {
   "cell_type": "code",
   "execution_count": 14,
   "id": "0a8ee956",
   "metadata": {},
   "outputs": [
    {
     "data": {
      "text/plain": [
       "0.8193469636862984"
      ]
     },
     "execution_count": 14,
     "metadata": {},
     "output_type": "execute_result"
    }
   ],
   "source": [
    "\n",
    "y_hat_test_10_2 = knn_predict(X_train, X_test, y_train, y_test, k=10, p=2)\n",
    "acc_10_2 = np.sum(np.equal(y_test, y_hat_test_10_2)) / len(y_test)\n",
    "acc_10_2\n"
   ]
  },
  {
   "cell_type": "code",
   "execution_count": 15,
   "id": "b988ebeb",
   "metadata": {},
   "outputs": [
    {
     "data": {
      "text/plain": [
       "0.8245346353371986"
      ]
     },
     "execution_count": 15,
     "metadata": {},
     "output_type": "execute_result"
    }
   ],
   "source": [
    "y_hat_test_20_2 = knn_predict(X_train, X_test, y_train, y_test, k=20, p=2)\n",
    "acc_20_2 = np.sum(np.equal(y_test, y_hat_test_20_2)) / len(y_test)\n",
    "acc_20_2"
   ]
  },
  {
   "cell_type": "code",
   "execution_count": 16,
   "id": "aad0dd08",
   "metadata": {},
   "outputs": [
    {
     "data": {
      "text/plain": [
       "0.8190418065303632"
      ]
     },
     "execution_count": 16,
     "metadata": {},
     "output_type": "execute_result"
    }
   ],
   "source": [
    "y_hat_test_50_2 = knn_predict(X_train, X_test, y_train, y_test, k=50, p=2)\n",
    "acc_50_2 = np.sum(np.equal(y_test, y_hat_test_50_2)) / len(y_test)\n",
    "acc_50_2"
   ]
  },
  {
   "cell_type": "code",
   "execution_count": 17,
   "id": "9a572cb9",
   "metadata": {},
   "outputs": [
    {
     "data": {
      "text/plain": [
       "0.8123283490997864"
      ]
     },
     "execution_count": 17,
     "metadata": {},
     "output_type": "execute_result"
    }
   ],
   "source": [
    "y_hat_test_100_2 = knn_predict(X_train, X_test, y_train, y_test, k=100, p=2)\n",
    "acc_100_2 = np.sum(np.equal(y_test, y_hat_test_100_2)) / len(y_test)\n",
    "acc_100_2"
   ]
  },
  {
   "cell_type": "code",
   "execution_count": 51,
   "id": "3aa1a833",
   "metadata": {},
   "outputs": [
    {
     "name": "stdout",
     "output_type": "stream",
     "text": [
      "Accuracy is 82.45346353371986\n"
     ]
    }
   ],
   "source": [
    "print(\"Accuracy is\",acc_20_2*100)"
   ]
  },
  {
   "cell_type": "code",
   "execution_count": null,
   "id": "6349d339",
   "metadata": {},
   "outputs": [],
   "source": []
  }
 ],
 "metadata": {
  "kernelspec": {
   "display_name": "Python 3 (ipykernel)",
   "language": "python",
   "name": "python3"
  },
  "language_info": {
   "codemirror_mode": {
    "name": "ipython",
    "version": 3
   },
   "file_extension": ".py",
   "mimetype": "text/x-python",
   "name": "python",
   "nbconvert_exporter": "python",
   "pygments_lexer": "ipython3",
   "version": "3.10.9"
  }
 },
 "nbformat": 4,
 "nbformat_minor": 5
}
